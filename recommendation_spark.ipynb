{
  "nbformat": 4,
  "nbformat_minor": 0,
  "metadata": {
    "colab": {
      "provenance": [],
      "gpuType": "T4",
      "include_colab_link": true
    },
    "kernelspec": {
      "name": "python3",
      "display_name": "Python 3"
    },
    "language_info": {
      "name": "python"
    },
    "accelerator": "GPU"
  },
  "cells": [
    {
      "cell_type": "markdown",
      "metadata": {
        "id": "view-in-github",
        "colab_type": "text"
      },
      "source": [
        "<a href=\"https://colab.research.google.com/github/shafaqueahmareen/Recommendation_system/blob/main/recommendation_spark.ipynb\" target=\"_parent\"><img src=\"https://colab.research.google.com/assets/colab-badge.svg\" alt=\"Open In Colab\"/></a>"
      ]
    },
    {
      "cell_type": "code",
      "execution_count": null,
      "metadata": {
        "colab": {
          "base_uri": "https://localhost:8080/"
        },
        "id": "pU33yvM-AP3v",
        "outputId": "c1a53835-5df4-4545-d611-d4b43eac0544"
      },
      "outputs": [
        {
          "output_type": "stream",
          "name": "stdout",
          "text": [
            "Requirement already satisfied: pyspark in /usr/local/lib/python3.10/dist-packages (3.5.0)\n",
            "Requirement already satisfied: py4j==0.10.9.7 in /usr/local/lib/python3.10/dist-packages (from pyspark) (0.10.9.7)\n"
          ]
        }
      ],
      "source": [
        "!pip install pyspark"
      ]
    },
    {
      "cell_type": "code",
      "source": [
        "from pyspark.sql import SparkSession\n",
        "from pyspark.ml.evaluation import RegressionEvaluator # for the continous Data evaluation\n",
        "from pyspark.ml.recommendation import ALS\n"
      ],
      "metadata": {
        "id": "tKh6ahGABUAk"
      },
      "execution_count": null,
      "outputs": []
    },
    {
      "cell_type": "code",
      "source": [
        "# create the spark instance\n",
        "\n",
        "spark = SparkSession.builder.appName('RecomALS').getOrCreate()\n",
        "\n",
        "# load the data\n",
        "path = '/content/movielens_ratings.csv'\n",
        "\n",
        "data = spark.read.csv(path,header=True,inferSchema=True)\n",
        "data.show()"
      ],
      "metadata": {
        "colab": {
          "base_uri": "https://localhost:8080/"
        },
        "id": "BfZDrbETEb65",
        "outputId": "2a9fbbad-9464-4dc2-c448-c0983eaedfff"
      },
      "execution_count": null,
      "outputs": [
        {
          "output_type": "stream",
          "name": "stdout",
          "text": [
            "+-------+------+------+\n",
            "|movieId|rating|userId|\n",
            "+-------+------+------+\n",
            "|      2|   3.0|     0|\n",
            "|      3|   1.0|     0|\n",
            "|      5|   2.0|     0|\n",
            "|      9|   4.0|     0|\n",
            "|     11|   1.0|     0|\n",
            "|     12|   2.0|     0|\n",
            "|     15|   1.0|     0|\n",
            "|     17|   1.0|     0|\n",
            "|     19|   1.0|     0|\n",
            "|     21|   1.0|     0|\n",
            "|     23|   1.0|     0|\n",
            "|     26|   3.0|     0|\n",
            "|     27|   1.0|     0|\n",
            "|     28|   1.0|     0|\n",
            "|     29|   1.0|     0|\n",
            "|     30|   1.0|     0|\n",
            "|     31|   1.0|     0|\n",
            "|     34|   1.0|     0|\n",
            "|     37|   1.0|     0|\n",
            "|     41|   2.0|     0|\n",
            "+-------+------+------+\n",
            "only showing top 20 rows\n",
            "\n"
          ]
        }
      ]
    },
    {
      "cell_type": "code",
      "source": [
        "data.describe().show()"
      ],
      "metadata": {
        "colab": {
          "base_uri": "https://localhost:8080/"
        },
        "id": "TbpJOxEyV5RO",
        "outputId": "ef3e9244-de37-42f1-cb6a-74f9f1b0e549"
      },
      "execution_count": null,
      "outputs": [
        {
          "output_type": "stream",
          "name": "stdout",
          "text": [
            "+-------+------------------+------------------+------------------+\n",
            "|summary|           movieId|            rating|            userId|\n",
            "+-------+------------------+------------------+------------------+\n",
            "|  count|              1501|              1501|              1501|\n",
            "|   mean| 49.40572951365756|1.7741505662891406|14.383744170552964|\n",
            "| stddev|28.937034065088994| 1.187276166124803| 8.591040424293272|\n",
            "|    min|                 0|               1.0|                 0|\n",
            "|    max|                99|               5.0|                29|\n",
            "+-------+------------------+------------------+------------------+\n",
            "\n"
          ]
        }
      ]
    },
    {
      "cell_type": "code",
      "source": [
        "# split the data into train and test\n",
        "TrainData , TestData = data.randomSplit([0.8,0.2],10)\n",
        "\n",
        "# build the recommendation ALS model , Using Training data\n",
        "\n",
        "alsModel = ALS(userCol='userId',ratingCol='rating',itemCol='movieId',maxIter=10,\n",
        "               regParam=0.1)\n",
        "\n",
        "#train the model\n",
        "model = alsModel.fit(TrainData)\n",
        "\n",
        "\n",
        "\n",
        "\n"
      ],
      "metadata": {
        "id": "m4vbvqtBWX-q"
      },
      "execution_count": null,
      "outputs": []
    },
    {
      "cell_type": "code",
      "source": [
        "\n",
        "# lets apply the trained model on the test data\n",
        "# to evaluate the rmse performance of the model\n",
        "\n",
        "perdiction = model.transform(TestData)\n",
        "\n",
        "perdiction.show(100)"
      ],
      "metadata": {
        "colab": {
          "base_uri": "https://localhost:8080/"
        },
        "id": "TQ1JtndkX2Gb",
        "outputId": "187822e3-1fe0-4b61-90a0-dac6b9fd74be"
      },
      "execution_count": null,
      "outputs": [
        {
          "output_type": "stream",
          "name": "stdout",
          "text": [
            "+-------+------+------+----------+\n",
            "|movieId|rating|userId|prediction|\n",
            "+-------+------+------+----------+\n",
            "|      3|   1.0|    28|0.78267884|\n",
            "|      0|   1.0|    27|0.80784273|\n",
            "|      3|   1.0|    26| 1.3120326|\n",
            "|      4|   4.0|    26| 2.4216769|\n",
            "|      9|   1.0|    27| 0.9630326|\n",
            "|     18|   3.0|    26| 3.3258872|\n",
            "|     19|   3.0|    27| 2.0690465|\n",
            "|     22|   2.0|    27| 1.6874615|\n",
            "|     14|   1.0|    12| 1.3610764|\n",
            "|     15|   2.0|    12|0.89237535|\n",
            "|     17|   5.0|    12| 2.8700898|\n",
            "|     25|   1.0|    12| 2.3434594|\n",
            "|      0|   1.0|    22| 0.7597292|\n",
            "|      5|   2.0|    22|  2.195764|\n",
            "|     29|   3.0|    22| 3.5752323|\n",
            "|      2|   2.0|     1| 1.8459567|\n",
            "|      9|   3.0|     1| 1.4814622|\n",
            "|     13|   1.0|     1| 0.9978119|\n",
            "|     21|   3.0|     1|  1.397656|\n",
            "|     28|   3.0|     1| 0.6060812|\n",
            "|      3|   1.0|    13|0.98289704|\n",
            "|     20|   1.0|    13|0.41501307|\n",
            "|     31|   1.0|    13| 1.2776219|\n",
            "|      2|   1.0|    16| 2.1812754|\n",
            "|      9|   1.0|    16| 1.7326615|\n",
            "|     14|   1.0|    16| 1.2208755|\n",
            "|     15|   2.0|     6|0.75577205|\n",
            "|     21|   2.0|    16| 1.4863268|\n",
            "|     22|   1.0|     6| 1.0336115|\n",
            "|     26|   1.0|     6| 1.0550535|\n",
            "|     28|   1.0|     6| 0.9156598|\n",
            "|      1|   1.0|     3|  0.787928|\n",
            "|     18|   4.0|     3|  2.858477|\n",
            "|     19|   1.0|     3|  1.905982|\n",
            "|     21|   2.0|    20| 1.7488747|\n",
            "|     24|   2.0|    20| 2.6645634|\n",
            "|     30|   2.0|    20|  2.954023|\n",
            "|      0|   1.0|     5| 1.3089216|\n",
            "|     19|   1.0|     5| 1.4891568|\n",
            "|     27|   1.0|     5| 3.3943195|\n",
            "|     31|   1.0|     5| 1.8646865|\n",
            "|      4|   1.0|    19| 1.4614556|\n",
            "|     23|   1.0|    19|  3.141207|\n",
            "|      0|   1.0|    15| 1.1123571|\n",
            "|     23|   2.0|    15| 2.0875034|\n",
            "|     32|   1.0|    15| 2.4209194|\n",
            "|      3|   1.0|    17| 0.8294388|\n",
            "|      4|   1.0|     9| 1.3820616|\n",
            "|     21|   1.0|     9|  1.305019|\n",
            "|     26|   1.0|     9| 1.0973094|\n",
            "|     29|   1.0|    17| 1.3184599|\n",
            "|     13|   1.0|     4| 0.5889438|\n",
            "|     20|   1.0|     4| 0.8666691|\n",
            "|     23|   1.0|     4| 0.6669683|\n",
            "|     30|   1.0|     4| 1.8797812|\n",
            "|      0|   1.0|     8| 1.0634832|\n",
            "|      4|   2.0|     8| 1.6007434|\n",
            "|      5|   1.0|     8| 1.3143263|\n",
            "|      7|   1.0|     8| 2.3543718|\n",
            "|      2|   1.0|    23| 1.2359984|\n",
            "|     13|   4.0|    23| 2.5611794|\n",
            "|     18|   4.0|    23| 1.8882862|\n",
            "|     23|   4.0|    23| 2.8086855|\n",
            "|     27|   5.0|    23| 3.0830922|\n",
            "|      2|   2.0|     7|  2.613842|\n",
            "|     10|   1.0|     7| 1.1061146|\n",
            "|     32|   1.0|     7|0.85952806|\n",
            "|     18|   1.0|    10| 1.1058909|\n",
            "|     25|   3.0|    10| 2.1314769|\n",
            "|     17|   1.0|    25| 1.0535865|\n",
            "|     18|   1.0|    25|  1.509603|\n",
            "|     26|   2.0|    25| 1.5546829|\n",
            "|     29|   1.0|    25| 1.1157211|\n",
            "|     30|   1.0|    25| 1.1987363|\n",
            "|      4|   1.0|    24| 1.4065751|\n",
            "|     24|   1.0|    24| 1.4720713|\n",
            "|      4|   1.0|    29| 1.3768464|\n",
            "|     10|   3.0|    29| 2.3056307|\n",
            "|     22|   3.0|    29|  2.735446|\n",
            "|     29|   1.0|    29| 1.0356537|\n",
            "|     31|   1.0|    29| 2.1707668|\n",
            "|     14|   3.0|    21| 2.3603177|\n",
            "|     22|   1.0|    21| 1.0185341|\n",
            "|     12|   1.0|    11| 1.7662998|\n",
            "|     13|   4.0|    11| 2.4518628|\n",
            "|     20|   1.0|    11| 1.6518066|\n",
            "|     21|   1.0|    11| 1.9389596|\n",
            "|      7|   1.0|    14| 2.1362412|\n",
            "|     24|   1.0|    14| 0.7667561|\n",
            "|      8|   5.0|     2|  1.280284|\n",
            "|     22|   1.0|     2| 0.9456761|\n",
            "|      5|   2.0|     0| 1.3112775|\n",
            "|     26|   3.0|     0| 0.3729686|\n",
            "|     27|   1.0|     0| 1.1016053|\n",
            "|     28|   1.0|     0|0.56609553|\n",
            "|      7|   1.0|    18| 0.6187899|\n",
            "|     12|   2.0|    18|  2.246114|\n",
            "|     26|   1.0|    18| 0.5616723|\n",
            "|     28|   5.0|    18| 0.7831435|\n",
            "|     29|   1.0|    18| 2.0313025|\n",
            "+-------+------+------+----------+\n",
            "only showing top 100 rows\n",
            "\n"
          ]
        }
      ]
    },
    {
      "cell_type": "code",
      "source": [
        "# calculate the RMSE for the model\n",
        "evaluator = RegressionEvaluator(metricName='rmse',labelCol='rating',predictionCol='prediction')\n",
        "rmse = evaluator.evaluate(perdiction)\n",
        "print('RMSE of the ALS recommendation: ',rmse)"
      ],
      "metadata": {
        "colab": {
          "base_uri": "https://localhost:8080/"
        },
        "id": "o9ksG6MtYcT7",
        "outputId": "a36f86aa-928d-4bde-abb4-aeca3b621d7d"
      },
      "execution_count": null,
      "outputs": [
        {
          "output_type": "stream",
          "name": "stdout",
          "text": [
            "RMSE of the ALS recommendation:  1.0535091849219107\n"
          ]
        }
      ]
    },
    {
      "cell_type": "code",
      "source": [
        "# filter out the user 11 and show the data with recommndation for user 11 only\n",
        "\n",
        "user11Data = TestData.filter(TestData['userId']==11).select(['movieId','userId'])\n",
        "user11Data.show()"
      ],
      "metadata": {
        "colab": {
          "base_uri": "https://localhost:8080/"
        },
        "id": "W-DSSq4tZ11F",
        "outputId": "2fb1f731-40c8-43a2-ec35-3e4ccaa32705"
      },
      "execution_count": null,
      "outputs": [
        {
          "output_type": "stream",
          "name": "stdout",
          "text": [
            "+-------+------+\n",
            "|movieId|userId|\n",
            "+-------+------+\n",
            "|     12|    11|\n",
            "|     13|    11|\n",
            "|     20|    11|\n",
            "|     21|    11|\n",
            "|     40|    11|\n",
            "|     41|    11|\n",
            "|     48|    11|\n",
            "|     71|    11|\n",
            "|     86|    11|\n",
            "|     99|    11|\n",
            "+-------+------+\n",
            "\n"
          ]
        }
      ]
    },
    {
      "cell_type": "code",
      "source": [
        "# recommend the movies to user11\n",
        "\n",
        "recom11 = model.transform(user11Data)\n",
        "\n",
        "recom11.show()\n",
        "# arrange the movies on the basis of the max to min recommendation values i.e. descending order\n",
        "\n",
        "recom11.orderBy('prediction',ascending=False).show()"
      ],
      "metadata": {
        "colab": {
          "base_uri": "https://localhost:8080/"
        },
        "id": "qc52f8HrbZnt",
        "outputId": "728ade10-426a-414c-8c59-e7943056070e"
      },
      "execution_count": null,
      "outputs": [
        {
          "output_type": "stream",
          "name": "stdout",
          "text": [
            "+-------+------+----------+\n",
            "|movieId|userId|prediction|\n",
            "+-------+------+----------+\n",
            "|     12|    11| 1.7662998|\n",
            "|     13|    11| 2.4518628|\n",
            "|     86|    11| 1.1530622|\n",
            "|     20|    11| 1.6518066|\n",
            "|     40|    11| 1.2363977|\n",
            "|     48|    11| 1.6764425|\n",
            "|     41|    11|  1.386582|\n",
            "|     21|    11| 1.9389596|\n",
            "|     71|    11| 1.7403847|\n",
            "|     99|    11| 1.2709212|\n",
            "+-------+------+----------+\n",
            "\n",
            "+-------+------+----------+\n",
            "|movieId|userId|prediction|\n",
            "+-------+------+----------+\n",
            "|     13|    11| 2.4518628|\n",
            "|     21|    11| 1.9389596|\n",
            "|     12|    11| 1.7662998|\n",
            "|     71|    11| 1.7403847|\n",
            "|     48|    11| 1.6764425|\n",
            "|     20|    11| 1.6518066|\n",
            "|     41|    11|  1.386582|\n",
            "|     99|    11| 1.2709212|\n",
            "|     40|    11| 1.2363977|\n",
            "|     86|    11| 1.1530622|\n",
            "+-------+------+----------+\n",
            "\n"
          ]
        }
      ]
    },
    {
      "cell_type": "code",
      "source": [
        "d = perdiction.filter(perdiction['userID']==11)\n",
        "d.show()"
      ],
      "metadata": {
        "colab": {
          "base_uri": "https://localhost:8080/"
        },
        "id": "0yidz6iZb_X1",
        "outputId": "015cf29a-dcab-4f56-a3c9-c74d8c427112"
      },
      "execution_count": null,
      "outputs": [
        {
          "output_type": "stream",
          "name": "stdout",
          "text": [
            "+-------+------+------+----------+\n",
            "|movieId|rating|userId|prediction|\n",
            "+-------+------+------+----------+\n",
            "|     12|   1.0|    11| 1.7662998|\n",
            "|     13|   4.0|    11| 2.4518628|\n",
            "|     86|   1.0|    11| 1.1530622|\n",
            "|     20|   1.0|    11| 1.6518066|\n",
            "|     40|   1.0|    11| 1.2363977|\n",
            "|     48|   5.0|    11| 1.6764425|\n",
            "|     41|   1.0|    11|  1.386582|\n",
            "|     21|   1.0|    11| 1.9389596|\n",
            "|     71|   3.0|    11| 1.7403847|\n",
            "|     99|   1.0|    11| 1.2709212|\n",
            "+-------+------+------+----------+\n",
            "\n"
          ]
        }
      ]
    },
    {
      "cell_type": "code",
      "source": [
        "# for User number 22\n",
        "\n",
        "user22Data=TestData.filter(TestData['userId']==22).select(['movieId','userId'])\n",
        "user22Data.show()\n",
        "#recommend the movies to user22\n",
        "\n",
        "recom22=model.transform(user22Data)\n",
        "recom22.show()\n",
        "#arrange the movies to max and min recommendation-->decending order\n",
        "\n",
        "recom22.orderBy('prediction',ascending=False).show()\n",
        "d1=perdiction.filter(perdiction['userId']==22)\n",
        "d1.show()"
      ],
      "metadata": {
        "colab": {
          "base_uri": "https://localhost:8080/"
        },
        "id": "zMYErmh0ctJr",
        "outputId": "d14fee78-ace2-43e4-ecf6-4e2d697a0c72"
      },
      "execution_count": null,
      "outputs": [
        {
          "output_type": "stream",
          "name": "stdout",
          "text": [
            "+-------+------+\n",
            "|movieId|userId|\n",
            "+-------+------+\n",
            "|      0|    22|\n",
            "|      5|    22|\n",
            "|     29|    22|\n",
            "|     33|    22|\n",
            "|     37|    22|\n",
            "|     63|    22|\n",
            "|     65|    22|\n",
            "|     69|    22|\n",
            "|     74|    22|\n",
            "|     75|    22|\n",
            "|     80|    22|\n",
            "|     90|    22|\n",
            "+-------+------+\n",
            "\n",
            "+-------+------+----------+\n",
            "|movieId|userId|prediction|\n",
            "+-------+------+----------+\n",
            "|     65|    22| 1.7930562|\n",
            "|      5|    22|  2.195764|\n",
            "|     37|    22| 1.3643543|\n",
            "|     69|    22|  2.657474|\n",
            "|     63|    22| 2.0023277|\n",
            "|     80|    22| 2.6209564|\n",
            "|     29|    22| 3.5752323|\n",
            "|     90|    22|  3.761522|\n",
            "|     75|    22| 3.9040923|\n",
            "|     33|    22| 1.2242988|\n",
            "|      0|    22| 0.7597292|\n",
            "|     74|    22| 3.1396744|\n",
            "+-------+------+----------+\n",
            "\n",
            "+-------+------+----------+\n",
            "|movieId|userId|prediction|\n",
            "+-------+------+----------+\n",
            "|     75|    22| 3.9040923|\n",
            "|     90|    22|  3.761522|\n",
            "|     29|    22| 3.5752323|\n",
            "|     74|    22| 3.1396744|\n",
            "|     69|    22|  2.657474|\n",
            "|     80|    22| 2.6209564|\n",
            "|      5|    22|  2.195764|\n",
            "|     63|    22| 2.0023277|\n",
            "|     65|    22| 1.7930562|\n",
            "|     37|    22| 1.3643543|\n",
            "|     33|    22| 1.2242988|\n",
            "|      0|    22| 0.7597292|\n",
            "+-------+------+----------+\n",
            "\n",
            "+-------+------+------+----------+\n",
            "|movieId|rating|userId|prediction|\n",
            "+-------+------+------+----------+\n",
            "|     65|   1.0|    22| 1.7930562|\n",
            "|      5|   2.0|    22|  2.195764|\n",
            "|     37|   1.0|    22| 1.3643543|\n",
            "|     69|   4.0|    22|  2.657474|\n",
            "|     63|   1.0|    22| 2.0023277|\n",
            "|     80|   3.0|    22| 2.6209564|\n",
            "|     29|   3.0|    22| 3.5752323|\n",
            "|     90|   2.0|    22|  3.761522|\n",
            "|     75|   5.0|    22| 3.9040923|\n",
            "|     33|   1.0|    22| 1.2242988|\n",
            "|      0|   1.0|    22| 0.7597292|\n",
            "|     74|   5.0|    22| 3.1396744|\n",
            "+-------+------+------+----------+\n",
            "\n"
          ]
        }
      ]
    },
    {
      "cell_type": "code",
      "source": [
        "# for User number 25\n",
        "\n",
        "user25Data=TestData.filter(TestData['userId']==25).select(['movieId','userId'])\n",
        "user25Data.show()\n",
        "#recommend the movies to user22\n",
        "\n",
        "recom25=model.transform(user25Data)\n",
        "recom25.show()\n",
        "#arrange the movies to max and min recommendation-->decending order\n",
        "\n",
        "recom25.orderBy('prediction',ascending=False).show()\n",
        "d2=perdiction.filter(perdiction['userId']==25)\n",
        "d2.show()"
      ],
      "metadata": {
        "colab": {
          "base_uri": "https://localhost:8080/"
        },
        "id": "gPHzLeZhdfM9",
        "outputId": "b6cf958d-f241-4352-cd6a-b8ec1135e3ec"
      },
      "execution_count": null,
      "outputs": [
        {
          "output_type": "stream",
          "name": "stdout",
          "text": [
            "+-------+------+\n",
            "|movieId|userId|\n",
            "+-------+------+\n",
            "|     17|    25|\n",
            "|     18|    25|\n",
            "|     26|    25|\n",
            "|     29|    25|\n",
            "|     30|    25|\n",
            "|     34|    25|\n",
            "|     35|    25|\n",
            "|     37|    25|\n",
            "|     40|    25|\n",
            "|     41|    25|\n",
            "|     43|    25|\n",
            "|     68|    25|\n",
            "|     79|    25|\n",
            "+-------+------+\n",
            "\n",
            "+-------+------+----------+\n",
            "|movieId|userId|prediction|\n",
            "+-------+------+----------+\n",
            "|     17|    25| 1.0535865|\n",
            "|     18|    25|  1.509603|\n",
            "|     26|    25| 1.5546829|\n",
            "|     29|    25| 1.1157211|\n",
            "|     30|    25| 1.1987363|\n",
            "|     34|    25| 1.5552684|\n",
            "|     35|    25|  1.001963|\n",
            "|     37|    25|  1.881047|\n",
            "|     40|    25| 1.9759222|\n",
            "|     41|    25| 1.4865441|\n",
            "|     43|    25| 0.5714872|\n",
            "|     68|    25| 1.0670867|\n",
            "|     79|    25| 1.6331068|\n",
            "+-------+------+----------+\n",
            "\n",
            "+-------+------+----------+\n",
            "|movieId|userId|prediction|\n",
            "+-------+------+----------+\n",
            "|     40|    25| 1.9759222|\n",
            "|     37|    25|  1.881047|\n",
            "|     79|    25| 1.6331068|\n",
            "|     34|    25| 1.5552684|\n",
            "|     26|    25| 1.5546829|\n",
            "|     18|    25|  1.509603|\n",
            "|     41|    25| 1.4865441|\n",
            "|     30|    25| 1.1987363|\n",
            "|     29|    25| 1.1157211|\n",
            "|     68|    25| 1.0670867|\n",
            "|     17|    25| 1.0535865|\n",
            "|     35|    25|  1.001963|\n",
            "|     43|    25| 0.5714872|\n",
            "+-------+------+----------+\n",
            "\n",
            "+-------+------+------+----------+\n",
            "|movieId|rating|userId|prediction|\n",
            "+-------+------+------+----------+\n",
            "|     17|   1.0|    25| 1.0535865|\n",
            "|     18|   1.0|    25|  1.509603|\n",
            "|     26|   2.0|    25| 1.5546829|\n",
            "|     29|   1.0|    25| 1.1157211|\n",
            "|     30|   1.0|    25| 1.1987363|\n",
            "|     34|   3.0|    25| 1.5552684|\n",
            "|     35|   2.0|    25|  1.001963|\n",
            "|     37|   1.0|    25|  1.881047|\n",
            "|     40|   1.0|    25| 1.9759222|\n",
            "|     41|   1.0|    25| 1.4865441|\n",
            "|     43|   1.0|    25| 0.5714872|\n",
            "|     68|   1.0|    25| 1.0670867|\n",
            "|     79|   1.0|    25| 1.6331068|\n",
            "+-------+------+------+----------+\n",
            "\n"
          ]
        }
      ]
    },
    {
      "cell_type": "code",
      "source": [
        "# now using crossvalidator and paramgrid\n",
        "\n",
        "from pyspark.ml.tuning import CrossValidator,ParamGridBuilder\n",
        "\n",
        "# create ALS model\n",
        "als_Model = ALS(userCol='userId',ratingCol='rating',itemCol='movieId')\n",
        "\n",
        "# define all the hyper parameters using grid builder\n",
        "param = ParamGridBuilder().addGrid(als_Model.regParam,[0.01,0.05,.1]).addGrid(als_Model.maxIter,\n",
        " [5,10,20]).build()\n",
        "\n",
        "# regression evaluator\n",
        "eval = RegressionEvaluator(metricName='rmse',labelCol='rating',predictionCol='prediction')\n",
        "\n",
        "\n",
        "# define the cross validator\n",
        "\n",
        "cv = CrossValidator(estimator=als_Model, estimatorParamMaps=param,\n",
        "                    evaluator=eval,numFolds=5)\n",
        "\n",
        "best_model = cv.fit(data)\n",
        "\n",
        "model_new = best_model.bestModel"
      ],
      "metadata": {
        "colab": {
          "base_uri": "https://localhost:8080/"
        },
        "id": "L98lSxQVfZas",
        "outputId": "5f179db7-0a49-4941-b75c-b55463de44b4"
      },
      "execution_count": null,
      "outputs": [
        {
          "output_type": "stream",
          "name": "stdout",
          "text": [
            "ALSModel: uid=ALS_d976cd98d673, rank=10\n"
          ]
        }
      ]
    },
    {
      "cell_type": "code",
      "source": [
        "model_new = best_model.bestModel\n",
        "pred = model_new.transform(TestData)\n",
        "pred.show()"
      ],
      "metadata": {
        "colab": {
          "base_uri": "https://localhost:8080/"
        },
        "id": "qUuY0DQWg8m5",
        "outputId": "f4e76029-86bd-47d8-b068-b38417ebc046"
      },
      "execution_count": null,
      "outputs": [
        {
          "output_type": "stream",
          "name": "stdout",
          "text": [
            "+-------+------+------+----------+\n",
            "|movieId|rating|userId|prediction|\n",
            "+-------+------+------+----------+\n",
            "|      3|   1.0|    28| 0.8070102|\n",
            "|      0|   1.0|    27|0.91564935|\n",
            "|      3|   1.0|    26| 1.0680491|\n",
            "|      4|   4.0|    26| 3.1241739|\n",
            "|      0|   1.0|    22| 1.0804402|\n",
            "|      2|   2.0|     1| 1.9123015|\n",
            "|      3|   1.0|    13| 1.0370896|\n",
            "|      2|   1.0|    16| 1.2052873|\n",
            "|      1|   1.0|     3|0.96181226|\n",
            "|      0|   1.0|     5| 1.0422553|\n",
            "|      4|   1.0|    19| 1.3673761|\n",
            "|      0|   1.0|    15| 1.0348456|\n",
            "|      3|   1.0|    17| 0.9681004|\n",
            "|      4|   1.0|     9| 1.2024503|\n",
            "|      0|   1.0|     8| 1.0687263|\n",
            "|      4|   2.0|     8| 1.5164093|\n",
            "|      5|   1.0|     8| 1.2589011|\n",
            "|      2|   1.0|    23|  1.209958|\n",
            "|      2|   2.0|     7| 2.3130436|\n",
            "|      4|   1.0|    24| 1.0930883|\n",
            "+-------+------+------+----------+\n",
            "only showing top 20 rows\n",
            "\n"
          ]
        }
      ]
    },
    {
      "cell_type": "code",
      "source": [
        "# calculate the RMSE for the model\n",
        "evaluator = RegressionEvaluator(metricName='rmse',labelCol='rating',predictionCol='prediction')\n",
        "rmse = evaluator.evaluate(pred)\n",
        "print('RMSE of the ALS recommendation: ',rmse)"
      ],
      "metadata": {
        "colab": {
          "base_uri": "https://localhost:8080/"
        },
        "id": "dIZSzfcqjnfE",
        "outputId": "e8390e0b-e998-4071-fb6b-16148c3fa3eb"
      },
      "execution_count": null,
      "outputs": [
        {
          "output_type": "stream",
          "name": "stdout",
          "text": [
            "RMSE of the ALS recommendation:  0.41184177765984903\n"
          ]
        }
      ]
    },
    {
      "cell_type": "code",
      "source": [],
      "metadata": {
        "id": "aytqZheikR5R"
      },
      "execution_count": null,
      "outputs": []
    }
  ]
}